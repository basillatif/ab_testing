{
 "cells": [
  {
   "cell_type": "code",
   "execution_count": 4,
   "id": "5f8bd436",
   "metadata": {},
   "outputs": [],
   "source": [
    "import numpy as np\n",
    "import pandas as pd "
   ]
  },
  {
   "cell_type": "code",
   "execution_count": null,
   "id": "4c0ec9dc",
   "metadata": {},
   "outputs": [],
   "source": [
    "np.random.seed(12345)\n",
    "\n",
    "# experiment sample size\n",
    "num_users = 100000\n",
    "\n",
    "# randomly assign treatment and control groups\n",
    "groups = np.random.choice([0,1],size=num_users,p=[0.5,0.5])\n",
    "\n",
    "# probability of signup for treatment and control\n",
    "control_p = 0.3\n",
    "treatment_effect = 0.1\n",
    "treatment_p = control_p * (1+treatment_effect)\n",
    "\n",
    "# generate signups based on group membership and probabilities \n",
    "signup = np.where(groups==0,np.random.choice([0,1],size=num_users,p=[1-control_p,control_p]), \n",
    "                  np.random.choice([0,1],size=num_users,p=[1-treatment_p,treatment_p]))\n",
    "\n",
    "# combine into dataframe\n",
    "data = pd.DataFrame({\n",
    "    'treated':groups,\n",
    "    'signup': signup\n",
    "})    "
   ]
  },
  {
   "cell_type": "code",
   "execution_count": null,
   "id": "e1fa024e",
   "metadata": {},
   "outputs": [],
   "source": []
  }
 ],
 "metadata": {
  "kernelspec": {
   "display_name": "3.10.2",
   "language": "python",
   "name": "python3"
  },
  "language_info": {
   "codemirror_mode": {
    "name": "ipython",
    "version": 3
   },
   "file_extension": ".py",
   "mimetype": "text/x-python",
   "name": "python",
   "nbconvert_exporter": "python",
   "pygments_lexer": "ipython3",
   "version": "3.10.2"
  }
 },
 "nbformat": 4,
 "nbformat_minor": 5
}
