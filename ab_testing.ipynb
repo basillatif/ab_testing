{
 "cells": [
  {
   "cell_type": "code",
   "execution_count": 5,
   "id": "5f8bd436",
   "metadata": {},
   "outputs": [],
   "source": [
    "import numpy as np\n",
    "import pandas as pd "
   ]
  },
  {
   "cell_type": "code",
   "execution_count": 6,
   "id": "4c0ec9dc",
   "metadata": {},
   "outputs": [],
   "source": [
    "np.random.seed(12345)\n",
    "# experiment sample size\n",
    "num_users = 100000"
   ]
  },
  {
   "cell_type": "code",
   "execution_count": 7,
   "id": "712187f3",
   "metadata": {},
   "outputs": [
    {
     "data": {
      "text/plain": [
       "array([1, 0, 0, ..., 1, 0, 1])"
      ]
     },
     "execution_count": 7,
     "metadata": {},
     "output_type": "execute_result"
    }
   ],
   "source": [
    "# randomly assign treatment and control groups\n",
    "groups = np.random.choice([0,1],size=num_users,p=[0.5,0.5])\n",
    "groups"
   ]
  },
  {
   "cell_type": "code",
   "execution_count": 8,
   "id": "0caf5e00",
   "metadata": {},
   "outputs": [],
   "source": [
    "# probability of signup for treatment and control\n",
    "control_p = 0.3\n",
    "treatment_effect = 0.1\n",
    "treatment_p = control_p * (1+treatment_effect)\n",
    "\n",
    "# generate signups based on group membership and probabilities \n",
    "signup = np.where(groups==0,np.random.choice([0,1],size=num_users,p=[1-control_p,control_p]), \n",
    "                  np.random.choice([0,1],size=num_users,p=[1-treatment_p,treatment_p]))\n",
    "\n",
    "# combine into dataframe\n",
    "data = pd.DataFrame({\n",
    "    'treated':groups,\n",
    "    'signup': signup\n",
    "})    "
   ]
  },
  {
   "cell_type": "code",
   "execution_count": 9,
   "id": "1046020c",
   "metadata": {},
   "outputs": [
    {
     "data": {
      "text/html": [
       "<div>\n",
       "<style scoped>\n",
       "    .dataframe tbody tr th:only-of-type {\n",
       "        vertical-align: middle;\n",
       "    }\n",
       "\n",
       "    .dataframe tbody tr th {\n",
       "        vertical-align: top;\n",
       "    }\n",
       "\n",
       "    .dataframe thead th {\n",
       "        text-align: right;\n",
       "    }\n",
       "</style>\n",
       "<table border=\"1\" class=\"dataframe\">\n",
       "  <thead>\n",
       "    <tr style=\"text-align: right;\">\n",
       "      <th></th>\n",
       "      <th>treated</th>\n",
       "      <th>signup</th>\n",
       "    </tr>\n",
       "  </thead>\n",
       "  <tbody>\n",
       "    <tr>\n",
       "      <th>0</th>\n",
       "      <td>1</td>\n",
       "      <td>0</td>\n",
       "    </tr>\n",
       "    <tr>\n",
       "      <th>1</th>\n",
       "      <td>0</td>\n",
       "      <td>0</td>\n",
       "    </tr>\n",
       "    <tr>\n",
       "      <th>2</th>\n",
       "      <td>0</td>\n",
       "      <td>1</td>\n",
       "    </tr>\n",
       "    <tr>\n",
       "      <th>3</th>\n",
       "      <td>0</td>\n",
       "      <td>1</td>\n",
       "    </tr>\n",
       "    <tr>\n",
       "      <th>4</th>\n",
       "      <td>1</td>\n",
       "      <td>0</td>\n",
       "    </tr>\n",
       "  </tbody>\n",
       "</table>\n",
       "</div>"
      ],
      "text/plain": [
       "   treated  signup\n",
       "0        1       0\n",
       "1        0       0\n",
       "2        0       1\n",
       "3        0       1\n",
       "4        1       0"
      ]
     },
     "execution_count": 9,
     "metadata": {},
     "output_type": "execute_result"
    }
   ],
   "source": [
    "data.head()"
   ]
  },
  {
   "cell_type": "code",
   "execution_count": 3,
   "id": "e1fa024e",
   "metadata": {},
   "outputs": [
    {
     "name": "stdout",
     "output_type": "stream",
     "text": [
      "         count  mean\n",
      "treated             \n",
      "0        49952  0.30\n",
      "1        50048  0.33\n"
     ]
    }
   ],
   "source": [
    "print(data.groupby(['treated'])['signup'].agg(['count','mean']).round(2))"
   ]
  },
  {
   "cell_type": "markdown",
   "id": "f21327f0",
   "metadata": {},
   "source": [
    "# Evaluate experiment using linear regression\n"
   ]
  },
  {
   "cell_type": "code",
   "execution_count": 10,
   "id": "6c49077f",
   "metadata": {},
   "outputs": [
    {
     "name": "stdout",
     "output_type": "stream",
     "text": [
      "                            OLS Regression Results                            \n",
      "==============================================================================\n",
      "Dep. Variable:                 signup   R-squared:                       0.001\n",
      "Model:                            OLS   Adj. R-squared:                  0.001\n",
      "Method:                 Least Squares   F-statistic:                     131.4\n",
      "Date:                Thu, 24 Jul 2025   Prob (F-statistic):           2.06e-30\n",
      "Time:                        16:11:13   Log-Likelihood:                -65247.\n",
      "No. Observations:              100000   AIC:                         1.305e+05\n",
      "Df Residuals:                   99998   BIC:                         1.305e+05\n",
      "Df Model:                           1                                         \n",
      "Covariance Type:            nonrobust                                         \n",
      "==============================================================================\n",
      "                 coef    std err          t      P>|t|      [0.025      0.975]\n",
      "------------------------------------------------------------------------------\n",
      "Intercept      0.2992      0.002    143.938      0.000       0.295       0.303\n",
      "treated        0.0337      0.003     11.465      0.000       0.028       0.039\n",
      "==============================================================================\n",
      "Omnibus:                  1242876.903   Durbin-Watson:                   2.001\n",
      "Prob(Omnibus):                  0.000   Jarque-Bera (JB):            18215.398\n",
      "Skew:                           0.789   Prob(JB):                         0.00\n",
      "Kurtosis:                       1.629   Cond. No.                         2.62\n",
      "==============================================================================\n",
      "\n",
      "Notes:\n",
      "[1] Standard Errors assume that the covariance matrix of the errors is correctly specified.\n"
     ]
    },
    {
     "name": "stderr",
     "output_type": "stream",
     "text": [
      "/Users/basillatif/.pyenv/versions/3.10.0/lib/python3.10/site-packages/patsy/util.py:672: FutureWarning: is_categorical_dtype is deprecated and will be removed in a future version. Use isinstance(dtype, CategoricalDtype) instead\n",
      "  return _pandas_is_categorical_dtype(dt)\n",
      "/Users/basillatif/.pyenv/versions/3.10.0/lib/python3.10/site-packages/patsy/util.py:672: FutureWarning: is_categorical_dtype is deprecated and will be removed in a future version. Use isinstance(dtype, CategoricalDtype) instead\n",
      "  return _pandas_is_categorical_dtype(dt)\n",
      "/Users/basillatif/.pyenv/versions/3.10.0/lib/python3.10/site-packages/patsy/util.py:672: FutureWarning: is_categorical_dtype is deprecated and will be removed in a future version. Use isinstance(dtype, CategoricalDtype) instead\n",
      "  return _pandas_is_categorical_dtype(dt)\n"
     ]
    }
   ],
   "source": [
    "import statsmodels.formula.api as smf \n",
    "\n",
    "formula = 'signup ~ treated'\n",
    "model = smf.ols(formula,data).fit()\n",
    "\n",
    "print(model.summary())"
   ]
  },
  {
   "cell_type": "markdown",
   "id": "86ec60d1",
   "metadata": {},
   "source": [
    "# Extract key values from the regression summary"
   ]
  },
  {
   "cell_type": "code",
   "execution_count": 11,
   "id": "202a51f7",
   "metadata": {},
   "outputs": [
    {
     "name": "stdout",
     "output_type": "stream",
     "text": [
      "The estimated absolute impact is: 3.37%       \n",
      "The estimated relative impact is 11.26%       \n",
      "The t-statistic is 11.5       \n",
      "The p-value is 0.00%\n"
     ]
    }
   ],
   "source": [
    "print(\"The estimated absolute impact is: {0:.2f}% \\\n",
    "      \\nThe estimated relative impact is {1:.2f}% \\\n",
    "      \\nThe t-statistic is {2:.1f} \\\n",
    "      \\nThe p-value is {3:.2f}%\".format(\n",
    "        100*model.params['treated'],\n",
    "        100*model.params['treated']/model.params['Intercept'],\n",
    "        model.tvalues['treated'],\n",
    "        100*model.pvalues['treated']\n",
    "))"
   ]
  },
  {
   "cell_type": "markdown",
   "id": "84a2c91f",
   "metadata": {},
   "source": [
    "# Replicate using a two-sample t-test comparing means"
   ]
  },
  {
   "cell_type": "code",
   "execution_count": 12,
   "id": "aeae2637",
   "metadata": {},
   "outputs": [
    {
     "name": "stdout",
     "output_type": "stream",
     "text": [
      "t-statistic: 11.5\n",
      "p-value: 0.0%\n"
     ]
    }
   ],
   "source": [
    "from scipy.stats import ttest_ind \n",
    "\n",
    "treated_users = data[data['treated']==1]['signup']\n",
    "control_users = data[data['treated']==0]['signup']\n",
    "\n",
    "t_stat, p_value = ttest_ind(treated_users, control_users)\n",
    "\n",
    "print(f\"t-statistic: {round(t_stat,1)}\")\n",
    "print(f\"p-value: {100*round(p_value,3)}%\")"
   ]
  },
  {
   "cell_type": "markdown",
   "id": "536727d2",
   "metadata": {},
   "source": [
    "# Conculsion"
   ]
  },
  {
   "cell_type": "markdown",
   "id": "d5a1bd86",
   "metadata": {},
   "source": [
    "We simulated data for an experiment where the true effect of the treatment increased signup rates by a relative 10% from a baseline signup rate of 30%. Naturally there will be sampling error as we only observe users in the experiment. In this case, our estimated treatment effect was a relative increase of 11.3% and the result was highly statistically significant (p <<< 0.05).\n",
    "\n"
   ]
  },
  {
   "cell_type": "markdown",
   "id": "373f58ce",
   "metadata": {},
   "source": []
  }
 ],
 "metadata": {
  "kernelspec": {
   "display_name": "3.10.0",
   "language": "python",
   "name": "python3"
  },
  "language_info": {
   "codemirror_mode": {
    "name": "ipython",
    "version": 3
   },
   "file_extension": ".py",
   "mimetype": "text/x-python",
   "name": "python",
   "nbconvert_exporter": "python",
   "pygments_lexer": "ipython3",
   "version": "3.10.0"
  }
 },
 "nbformat": 4,
 "nbformat_minor": 5
}
