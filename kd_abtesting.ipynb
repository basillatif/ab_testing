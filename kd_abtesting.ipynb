{
 "cells": [
  {
   "cell_type": "code",
   "execution_count": null,
   "id": "6204ce2a",
   "metadata": {},
   "outputs": [],
   "source": [
    "# https://www.kdnuggets.com/a-complete-guide-to-a-b-testing-in-python"
   ]
  }
 ],
 "metadata": {
  "language_info": {
   "name": "python"
  }
 },
 "nbformat": 4,
 "nbformat_minor": 5
}
